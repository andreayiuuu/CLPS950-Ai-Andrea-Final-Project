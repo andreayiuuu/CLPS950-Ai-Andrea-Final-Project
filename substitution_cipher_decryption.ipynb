{
  "nbformat": 4,
  "nbformat_minor": 0,
  "metadata": {
    "colab": {
      "provenance": [],
      "authorship_tag": "ABX9TyO/YrneguSTv1DSrfjKSgmV",
      "include_colab_link": true
    },
    "kernelspec": {
      "name": "python3",
      "display_name": "Python 3"
    },
    "language_info": {
      "name": "python"
    }
  },
  "cells": [
    {
      "cell_type": "markdown",
      "metadata": {
        "id": "view-in-github",
        "colab_type": "text"
      },
      "source": [
        "<a href=\"https://colab.research.google.com/github/andreayiuuu/CLPS950-Ai-Andrea-Final-Project/blob/main/substitution_cipher_decryption.ipynb\" target=\"_parent\"><img src=\"https://colab.research.google.com/assets/colab-badge.svg\" alt=\"Open In Colab\"/></a>"
      ]
    },
    {
      "cell_type": "code",
      "execution_count": 13,
      "metadata": {
        "colab": {
          "base_uri": "https://localhost:8080/"
        },
        "id": "oeHLzwOLgYPr",
        "outputId": "654972ef-9e7c-4d75-9537-cc34a102e6d7"
      },
      "outputs": [
        {
          "output_type": "stream",
          "name": "stdout",
          "text": [
            "Decrypted Text: tneea, shart! teae ae e oinit oiooedi.\n"
          ]
        }
      ],
      "source": [
        "from collections import Counter\n",
        "import string\n",
        "\n",
        "ciphertext = \"riffs, wgsjr! rfsf sf f lxixr lxllfux.\"\n",
        "\n",
        "og_frequencies = 'etaoinshrdlcumwfgypbvkjxqz' #english alphabet from highest to lowest frequency\n",
        "\n",
        "def frequency_analysis(ciphertext):\n",
        "  letter_counts = Counter(c for c in ciphertext.lower() if c in string.ascii_lowercase)\n",
        "  sum_letters = sum(letter_counts.values())\n",
        "\n",
        "  cipher_frequencies = [letter for letter, count in letter_counts.most_common()]\n",
        "\n",
        "  test_key = {}\n",
        "  for cipher_letter, english_letter in zip(cipher_frequencies, og_frequencies):\n",
        "    test_key[cipher_letter] = english_letter\n",
        "\n",
        "  return test_key\n",
        "\n",
        "def apply_key(ciphertext, test_key): #applies the test key to the cipher text\n",
        "  decrypted_text = []\n",
        "  for char in ciphertext.lower():\n",
        "    decrypted_text.append(test_key.get(char, char))\n",
        "  return ''.join(decrypted_text)\n",
        "\n",
        "test_key = frequency_analysis(ciphertext)\n",
        "print(\"Decrypted Text:\", apply_key(ciphertext, test_key))"
      ]
    }
  ]
}