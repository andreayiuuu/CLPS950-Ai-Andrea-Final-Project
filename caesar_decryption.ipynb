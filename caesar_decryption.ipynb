{
  "nbformat": 4,
  "nbformat_minor": 0,
  "metadata": {
    "colab": {
      "provenance": [],
      "authorship_tag": "ABX9TyMjWRjOyb5aqiYNc22vt9Ap",
      "include_colab_link": true
    },
    "kernelspec": {
      "name": "python3",
      "display_name": "Python 3"
    },
    "language_info": {
      "name": "python"
    }
  },
  "cells": [
    {
      "cell_type": "markdown",
      "metadata": {
        "id": "view-in-github",
        "colab_type": "text"
      },
      "source": [
        "<a href=\"https://colab.research.google.com/github/andreayiuuu/CLPS950-Ai-Andrea-Final-Project/blob/main/caesar_decryption.ipynb\" target=\"_parent\"><img src=\"https://colab.research.google.com/assets/colab-badge.svg\" alt=\"Open In Colab\"/></a>"
      ]
    },
    {
      "cell_type": "code",
      "execution_count": 1,
      "metadata": {
        "colab": {
          "base_uri": "https://localhost:8080/"
        },
        "id": "piFJA1FpOfB5",
        "outputId": "7b54d412-05cc-4752-fedc-8dd3fcea0bf7"
      },
      "outputs": [
        {
          "output_type": "stream",
          "name": "stderr",
          "text": [
            "[nltk_data] Downloading package words to /root/nltk_data...\n",
            "[nltk_data]   Unzipping corpora/words.zip.\n"
          ]
        },
        {
          "output_type": "stream",
          "name": "stdout",
          "text": [
            "Shift 3: HELLO WORLD is valid English.\n",
            "The text is likely a Caesar cipher with a shift of 3.\n"
          ]
        }
      ],
      "source": [
        "# detection of caesar cipher and key without manual checking (brute force)\n",
        "import nltk # imports the Natural Language Toolkit library which is used for text processing tasks\n",
        "nltk.download('words') # downloads list of English words from the ntlk library. List used to check if decrypted text is valid english.\n",
        "from nltk.corpus import words # imports words dataset from nltk.corpus module.\n",
        "\n",
        "# defines is_valid_english function that takes string of text as argument and determines if it is valid english.\n",
        "def is_valid_english(text):\n",
        "  word_list = text.split() # splits encrypted text into words, adding them into word_list\n",
        "  english_words = set(words.words()) # creates set of english_words from nltk word dataset.\n",
        "  # calculates valid_word_count by checking how many words in word_list are in english_words set.\n",
        "  valid_word_count = sum(1 for word in word_list if word.lower() in english_words)\n",
        "  # returns True if more than 50% of words from word_list are valid English words. If not, returns false.\n",
        "  return valid_word_count/len(word_list)>0.5 if word_list else False\n",
        "\n",
        "# defines detect_caesar_cipher function that takes in ciphertext as argument to detect the shift value used in Caesar cipher.\n",
        "def detect_caesar_cipher(ciphertext):\n",
        "    ciphertext = ciphertext.upper() # converts ciphertext to uppercase\n",
        "    best_shift = None\n",
        "    highest_validity = 0\n",
        "\n",
        "    for shift in range (26): # for loop iterates through all possible shift values\n",
        "    # for each shift value, decrypts ciphertext and stores it in decrypted_text.\n",
        "        decrypted_text = ''.join(chr((ord(char) - 65 - shift)% 26 + 65) if char.isalpha() else char for char in ciphertext)\n",
        "        if is_valid_english(decrypted_text): # calls is_valid_english function to check if decrypted_text is valid english.\n",
        "          print(f\"Shift {shift}: {decrypted_text} is valid English.\") # prints the shift value and decrypted_text\n",
        "          best_shift = shift # sets best_shift to the current shift value.\n",
        "          break # breaks out of loop\n",
        "\n",
        "    if best_shift is not None: # if valid shift is found...\n",
        "      print(f\"The text is likely a Caesar cipher with a shift of {best_shift}.\")\n",
        "      return best_shift\n",
        "    else: # if valid shift is not found...\n",
        "      print(\"The text is unlikely to be a Caesar cipher.\")\n",
        "      return None\n",
        "\n",
        "ciphertext = \"KHOOR ZRUOG\" # encrypted text\n",
        "key = detect_caesar_cipher(ciphertext) # calls detect_caesar_cipher function to detect shift value (key)\n"
      ]
    }
  ]
}