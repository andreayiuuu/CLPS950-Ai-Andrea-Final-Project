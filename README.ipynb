{
  "nbformat": 4,
  "nbformat_minor": 0,
  "metadata": {
    "colab": {
      "provenance": [],
      "authorship_tag": "ABX9TyM+4/R0FP3W9U+KMwfciZb1",
      "include_colab_link": true
    },
    "kernelspec": {
      "name": "python3",
      "display_name": "Python 3"
    },
    "language_info": {
      "name": "python"
    }
  },
  "cells": [
    {
      "cell_type": "markdown",
      "metadata": {
        "id": "view-in-github",
        "colab_type": "text"
      },
      "source": [
        "<a href=\"https://colab.research.google.com/github/andreayiuuu/CLPS950-Ai-Andrea-Final-Project/blob/main/README.ipynb\" target=\"_parent\"><img src=\"https://colab.research.google.com/assets/colab-badge.svg\" alt=\"Open In Colab\"/></a>"
      ]
    },
    {
      "cell_type": "code",
      "execution_count": null,
      "metadata": {
        "id": "1AoAJrC2GAdp"
      },
      "outputs": [],
      "source": [
        "#our code encrypts and decrypts using three types of classic ciphers: Atbash, Caesar, and Substitution (random key)\n",
        "#these modules will be used: string, Count, random, ntlk, and ntlk.corpus, words\n",
        "#these are already imported in the colab notebook. you just need to run them\n",
        "#the encrypted_puzzles file includes puzzles that we have made using our encryption programs. you can take them and run them through our decryption files to find the secret message!"
      ]
    }
  ]
}