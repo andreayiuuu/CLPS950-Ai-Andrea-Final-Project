{
  "nbformat": 4,
  "nbformat_minor": 0,
  "metadata": {
    "colab": {
      "provenance": [],
      "authorship_tag": "ABX9TyNc+1LHCPZBh1E8FVREo3l8",
      "include_colab_link": true
    },
    "kernelspec": {
      "name": "python3",
      "display_name": "Python 3"
    },
    "language_info": {
      "name": "python"
    }
  },
  "cells": [
    {
      "cell_type": "markdown",
      "metadata": {
        "id": "view-in-github",
        "colab_type": "text"
      },
      "source": [
        "<a href=\"https://colab.research.google.com/github/andreayiuuu/CLPS950-Ai-Andrea-Final-Project/blob/main/substitution_cipher_encryption.ipynb\" target=\"_parent\"><img src=\"https://colab.research.google.com/assets/colab-badge.svg\" alt=\"Open In Colab\"/></a>"
      ]
    },
    {
      "cell_type": "code",
      "execution_count": 1,
      "metadata": {
        "colab": {
          "base_uri": "https://localhost:8080/"
        },
        "id": "frcHS7mCu0HB",
        "outputId": "6f4b2226-e5d8-41cf-aaf3-b6128f8f918c"
      },
      "outputs": [
        {
          "output_type": "stream",
          "name": "stdout",
          "text": [
            "Random Key: {'a': 'j', 'b': 'k', 'c': 't', 'd': 'n', 'e': 'b', 'f': 'h', 'g': 'a', 'h': 'q', 'i': 'w', 'j': 'r', 'k': 'v', 'l': 'c', 'm': 'o', 'n': 'z', 'o': 'i', 'p': 'x', 'q': 'm', 'r': 'p', 's': 'g', 't': 'd', 'u': 'y', 'v': 'e', 'w': 'f', 'x': 's', 'y': 'l', 'z': 'u'}\n",
            "Plaintext: hello everyone this is andrea\n",
            "Encrypted: qbcci bebplizb dqwg wg jznpbj\n",
            "Decrypted: hello everyone this is andrea\n"
          ]
        }
      ],
      "source": [
        "import string\n",
        "import random\n",
        "\n",
        "#create the random key by making a dictionary with shuffled letters and original letters\n",
        "def generate_key():\n",
        "  letters = list(string.ascii_lowercase)\n",
        "  shuffled = letters[:]\n",
        "  random.shuffle(shuffled)\n",
        "  return dict(zip(letters, shuffled))\n",
        "\n",
        "#create a function for encryption by replacing the original text's letter with the shuffled letter\n",
        "def encryption(text, key):\n",
        "  result = []\n",
        "  for char in text.lower():\n",
        "    if char in key:\n",
        "      result.append(key[char])\n",
        "    else:\n",
        "      result.append(char)\n",
        "  return ''.join(result)\n",
        "\n",
        "# decryption function, works by knowing the key\n",
        "def decryption(ciphertext, key):\n",
        "  reverse_key = {v: k for k, v in key.items()}\n",
        "  result = []\n",
        "  for char in ciphertext.lower():\n",
        "    if char in reverse_key:\n",
        "      result.append(reverse_key[char])\n",
        "    else:\n",
        "      result.append(char)\n",
        "  return ''.join(result)\n",
        "\n",
        "#calls the functions and creates plaintext\n",
        "plaintext = \"hello everyone this is andrea\"\n",
        "key = generate_key()\n",
        "ciphertext = encryption(plaintext, key)\n",
        "decrypted = decryption(ciphertext, key)\n",
        "\n",
        "print(\"Random Key:\", key)\n",
        "print(\"Plaintext:\", plaintext)\n",
        "print(\"Encrypted:\", ciphertext)\n",
        "print(\"Decrypted:\", decrypted)"
      ]
    }
  ]
}