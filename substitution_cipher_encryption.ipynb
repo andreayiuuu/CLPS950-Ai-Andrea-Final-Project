{
  "nbformat": 4,
  "nbformat_minor": 0,
  "metadata": {
    "colab": {
      "provenance": [],
      "authorship_tag": "ABX9TyNa+bPT6B4I8YtAGfs6nZd2",
      "include_colab_link": true
    },
    "kernelspec": {
      "name": "python3",
      "display_name": "Python 3"
    },
    "language_info": {
      "name": "python"
    }
  },
  "cells": [
    {
      "cell_type": "markdown",
      "metadata": {
        "id": "view-in-github",
        "colab_type": "text"
      },
      "source": [
        "<a href=\"https://colab.research.google.com/github/andreayiuuu/CLPS950-Ai-Andrea-Final-Project/blob/main/substitution_cipher_encryption.ipynb\" target=\"_parent\"><img src=\"https://colab.research.google.com/assets/colab-badge.svg\" alt=\"Open In Colab\"/></a>"
      ]
    },
    {
      "cell_type": "code",
      "execution_count": 2,
      "metadata": {
        "colab": {
          "base_uri": "https://localhost:8080/"
        },
        "id": "frcHS7mCu0HB",
        "outputId": "78f0c0f5-5282-4fc5-b0ff-839d4d369d47"
      },
      "outputs": [
        {
          "output_type": "stream",
          "name": "stdout",
          "text": [
            "Random Key: {'a': 'o', 'b': 'u', 'c': 'v', 'd': 'r', 'e': 'a', 'f': 't', 'g': 'e', 'h': 'x', 'i': 'j', 'j': 'm', 'k': 'q', 'l': 'w', 'm': 'c', 'n': 's', 'o': 'n', 'p': 'h', 'q': 'g', 'r': 'k', 's': 'l', 't': 'f', 'u': 'z', 'v': 'i', 'w': 'y', 'x': 'd', 'y': 'p', 'z': 'b'}\n",
            "Plaintext: hello everyone this is andrea\n",
            "Encrypted: xawwn aiakpnsa fxjl jl osrkao\n",
            "Decrypted: hello everyone this is andrea\n"
          ]
        }
      ],
      "source": [
        "import string\n",
        "import random\n",
        "\n",
        "def generate_key():\n",
        "  letters = list(string.ascii_lowercase)\n",
        "  shuffled = letters[:]\n",
        "  random.shuffle(shuffled)\n",
        "  return dict(zip(letters, shuffled))\n",
        "\n",
        "def encryption(text, key):\n",
        "  result = []\n",
        "  for char in text.lower():\n",
        "    if char in key:\n",
        "      result.append(key[char])\n",
        "    else:\n",
        "      result.append(char)\n",
        "  return ''.join(result)\n",
        "\n",
        "def decryption(ciphertext, key):\n",
        "  reverse_key = {v: k for k, v in key.items()}\n",
        "  result = []\n",
        "  for char in ciphertext.lower():\n",
        "    if char in reverse_key:\n",
        "      result.append(reverse_key[char])\n",
        "    else:\n",
        "      result.append(char)\n",
        "  return ''.join(result)\n",
        "\n",
        "plaintext = \"hello everyone this is andrea\"\n",
        "key = generate_key()\n",
        "ciphertext = encryption(plaintext, key)\n",
        "decrypted = decryption(ciphertext, key)\n",
        "\n",
        "print(\"Random Key:\", key)\n",
        "print(\"Plaintext:\", plaintext)\n",
        "print(\"Encrypted:\", ciphertext)\n",
        "print(\"Decrypted:\", decrypted)"
      ]
    }
  ]
}