{
  "nbformat": 4,
  "nbformat_minor": 0,
  "metadata": {
    "colab": {
      "provenance": [],
      "authorship_tag": "ABX9TyPgcBsQUgyEx950ZqTDHDGK",
      "include_colab_link": true
    },
    "kernelspec": {
      "name": "python3",
      "display_name": "Python 3"
    },
    "language_info": {
      "name": "python"
    }
  },
  "cells": [
    {
      "cell_type": "markdown",
      "metadata": {
        "id": "view-in-github",
        "colab_type": "text"
      },
      "source": [
        "<a href=\"https://colab.research.google.com/github/andreayiuuu/CLPS950-Ai-Andrea-Final-Project/blob/main/substitution_cipher_encryption.ipynb\" target=\"_parent\"><img src=\"https://colab.research.google.com/assets/colab-badge.svg\" alt=\"Open In Colab\"/></a>"
      ]
    },
    {
      "cell_type": "code",
      "execution_count": 1,
      "metadata": {
        "colab": {
          "base_uri": "https://localhost:8080/"
        },
        "id": "frcHS7mCu0HB",
        "outputId": "b3b21295-92a5-4042-8c08-c9de89eb7d41"
      },
      "outputs": [
        {
          "output_type": "stream",
          "name": "stdout",
          "text": [
            "Random Key: {'a': 't', 'b': 'd', 'c': 'r', 'd': 'x', 'e': 'p', 'f': 'm', 'g': 'i', 'h': 'b', 'i': 'c', 'j': 'e', 'k': 'w', 'l': 'z', 'm': 'v', 'n': 'y', 'o': 's', 'p': 'o', 'q': 'h', 'r': 'g', 's': 'a', 't': 'k', 'u': 'l', 'v': 'j', 'w': 'q', 'x': 'u', 'y': 'n', 'z': 'f'}\n",
            "Original text: hello everyone this is andrea\n",
            "Encrypted: bpzzs pjpgnsyp kbca ca tyxgpt\n",
            "Decrypted: hello everyone this is andrea\n"
          ]
        }
      ],
      "source": [
        "import string\n",
        "import random\n",
        "\n",
        "#create the random key by making a dictionary with shuffled letters and original letters\n",
        "def generate_key():\n",
        "  letters = list(string.ascii_lowercase) #string-ascii_lowercase comes from the strings module\n",
        "  shuffled = letters[:]\n",
        "  random.shuffle(shuffled) #shuffles the letters\n",
        "  return dict(zip(letters, shuffled)) #creates the key as a dictionary with the original letter and the shuffled letter as corresponding value\n",
        "\n",
        "#create a function for encryption by replacing the original text's letter with the shuffled letter\n",
        "def encryption(text, key):\n",
        "  result = []\n",
        "  for char in text.lower(): #lowercase text\n",
        "    if char in key: #if the character is in key\n",
        "      result.append(key[char]) #add the corresponding character into result\n",
        "    else:\n",
        "      result.append(char) #otherwise, keep the original character\n",
        "  return ''.join(result)\n",
        "\n",
        "# decryption function, works by knowing the key\n",
        "def decryption(ciphertext, key):\n",
        "  reverse_key = {v: k for k, v in key.items()} #changes key to output the original letter\n",
        "  result = []\n",
        "  for char in ciphertext.lower():\n",
        "    if char in reverse_key:\n",
        "      result.append(reverse_key[char])\n",
        "    else:\n",
        "      result.append(char)\n",
        "  return ''.join(result)\n",
        "\n",
        "#calls the functions and creates plaintext\n",
        "plaintext = \"hello everyone this is andrea\"\n",
        "key = generate_key()\n",
        "ciphertext = encryption(plaintext, key)\n",
        "decrypted = decryption(ciphertext, key)\n",
        "\n",
        "print(\"Random Key:\", key)\n",
        "print(\"Original text:\", plaintext)\n",
        "print(\"Encrypted:\", ciphertext)\n",
        "print(\"Decrypted:\", decrypted)"
      ]
    }
  ]
}