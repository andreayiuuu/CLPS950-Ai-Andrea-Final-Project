{
  "nbformat": 4,
  "nbformat_minor": 0,
  "metadata": {
    "colab": {
      "provenance": [],
      "authorship_tag": "ABX9TyMOOFsDc1wNdcN9t4c7ySTe",
      "include_colab_link": true
    },
    "kernelspec": {
      "name": "python3",
      "display_name": "Python 3"
    },
    "language_info": {
      "name": "python"
    }
  },
  "cells": [
    {
      "cell_type": "markdown",
      "metadata": {
        "id": "view-in-github",
        "colab_type": "text"
      },
      "source": [
        "<a href=\"https://colab.research.google.com/github/andreayiuuu/CLPS950-Ai-Andrea-Final-Project/blob/main/encrypted_puzzles.ipynb\" target=\"_parent\"><img src=\"https://colab.research.google.com/assets/colab-badge.svg\" alt=\"Open In Colab\"/></a>"
      ]
    },
    {
      "cell_type": "code",
      "execution_count": null,
      "metadata": {
        "id": "8cvihUMNHfry"
      },
      "outputs": [],
      "source": [
        "#Puzzle 1\n",
        "Ymfsp dtz HQUX950 xyfkk ktw f lwjfy xjrjxyjw!\n",
        "\n",
        "#Puzzle 2\n",
        "Dv ovzimvw z olg zylfg NZGOZY zmw Kbgslm gsrh hvnvhgvi.\n",
        "\n",
        "#Puzzle 3\n",
        "Ufm uzxg, gsv xzvhzi xrksvi dzh zxgfzoob fhvw yb qforfh xzvhzi!\n",
        "\n",
        "#Puzzle 4\n",
        "Jr ubcr lbh rawbl bhe cebwrpg nobhg rapelcgvba naq qrpelcgvba.\n",
        "\n",
        "#Puzzle 5\n",
        "Wvm lig, i kwe rcuxml wdmz bpm uwwv ivl kzmibml bpm kzibmza wv bpm uwwv.\n",
        "\n"
      ]
    }
  ]
}