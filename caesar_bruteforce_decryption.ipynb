{
  "nbformat": 4,
  "nbformat_minor": 0,
  "metadata": {
    "colab": {
      "provenance": [],
      "authorship_tag": "ABX9TyNvoHAgiSZuMt9UxG6oXQ1c",
      "include_colab_link": true
    },
    "kernelspec": {
      "name": "python3",
      "display_name": "Python 3"
    },
    "language_info": {
      "name": "python"
    }
  },
  "cells": [
    {
      "cell_type": "markdown",
      "metadata": {
        "id": "view-in-github",
        "colab_type": "text"
      },
      "source": [
        "<a href=\"https://colab.research.google.com/github/andreayiuuu/CLPS950-Ai-Andrea-Final-Project/blob/main/caesar_bruteforce_decryption.ipynb\" target=\"_parent\"><img src=\"https://colab.research.google.com/assets/colab-badge.svg\" alt=\"Open In Colab\"/></a>"
      ]
    },
    {
      "cell_type": "code",
      "execution_count": 1,
      "metadata": {
        "colab": {
          "base_uri": "https://localhost:8080/"
        },
        "id": "JuD1oDOvBq8N",
        "outputId": "c0c065e4-7bb5-4697-88d6-cb4cf51af763"
      },
      "outputs": [
        {
          "output_type": "stream",
          "name": "stdout",
          "text": [
            "Shift 0: QEB NRFZH YOLTK CLU GRJMP LSBO QEB IXWV ALD\n",
            "Shift 1: PDA MQEYG XNKSJ BKT FQILO KRAN PDA HWVU ZKC\n",
            "Shift 2: OCZ LPDXF WMJRI AJS EPHKN JQZM OCZ GVUT YJB\n",
            "Shift 3: NBY KOCWE VLIQH ZIR DOGJM IPYL NBY FUTS XIA\n",
            "Shift 4: MAX JNBVD UKHPG YHQ CNFIL HOXK MAX ETSR WHZ\n",
            "Shift 5: LZW IMAUC TJGOF XGP BMEHK GNWJ LZW DSRQ VGY\n",
            "Shift 6: KYV HLZTB SIFNE WFO ALDGJ FMVI KYV CRQP UFX\n",
            "Shift 7: JXU GKYSA RHEMD VEN ZKCFI ELUH JXU BQPO TEW\n",
            "Shift 8: IWT FJXRZ QGDLC UDM YJBEH DKTG IWT APON SDV\n",
            "Shift 9: HVS EIWQY PFCKB TCL XIADG CJSF HVS ZONM RCU\n",
            "Shift 10: GUR DHVPX OEBJA SBK WHZCF BIRE GUR YNML QBT\n",
            "Shift 11: FTQ CGUOW NDAIZ RAJ VGYBE AHQD FTQ XMLK PAS\n",
            "Shift 12: ESP BFTNV MCZHY QZI UFXAD ZGPC ESP WLKJ OZR\n",
            "Shift 13: DRO AESMU LBYGX PYH TEWZC YFOB DRO VKJI NYQ\n",
            "Shift 14: CQN ZDRLT KAXFW OXG SDVYB XENA CQN UJIH MXP\n",
            "Shift 15: BPM YCQKS JZWEV NWF RCUXA WDMZ BPM TIHG LWO\n",
            "Shift 16: AOL XBPJR IYVDU MVE QBTWZ VCLY AOL SHGF KVN\n",
            "Shift 17: ZNK WAOIQ HXUCT LUD PASVY UBKX ZNK RGFE JUM\n",
            "Shift 18: YMJ VZNHP GWTBS KTC OZRUX TAJW YMJ QFED ITL\n",
            "Shift 19: XLI UYMGO FVSAR JSB NYQTW SZIV XLI PEDC HSK\n",
            "Shift 20: WKH TXLFN EURZQ IRA MXPSV RYHU WKH ODCB GRJ\n",
            "Shift 21: VJG SWKEM DTQYP HQZ LWORU QXGT VJG NCBA FQI\n",
            "Shift 22: UIF RVJDL CSPXO GPY KVNQT PWFS UIF MBAZ EPH\n",
            "Shift 23: THE QUICK BROWN FOX JUMPS OVER THE LAZY DOG\n",
            "Shift 24: SGD PTHBJ AQNVM ENW ITLOR NUDQ SGD KZYX CNF\n",
            "Shift 25: RFC OSGAI ZPMUL DMV HSKNQ MTCP RFC JYXW BME\n"
          ]
        }
      ],
      "source": [
        "import string\n",
        "\n",
        "def brute_force_caesar(text):\n",
        "  text = text.upper()\n",
        "  for shift in range(26):\n",
        "    deciphered_text = ''.join(\n",
        "        chr((ord(char)- 65 - shift)% 26 + 65) if char.isalpha() else char for char in text)\n",
        "    print(\n",
        "        f\"Shift {shift}: {deciphered_text}\")\n",
        "\n",
        "ciphertext = \"QEB NRFZH YOLTK CLU GRJMP LSBO QEB IXWV ALD\"\n",
        "brute_force_caesar(ciphertext)"
      ]
    }
  ]
}