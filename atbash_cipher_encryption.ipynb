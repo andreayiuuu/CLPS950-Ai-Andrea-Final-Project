{
  "nbformat": 4,
  "nbformat_minor": 0,
  "metadata": {
    "colab": {
      "provenance": [],
      "authorship_tag": "ABX9TyOa+7Io5Te6ZHR/mi+mhgdW",
      "include_colab_link": true
    },
    "kernelspec": {
      "name": "python3",
      "display_name": "Python 3"
    },
    "language_info": {
      "name": "python"
    }
  },
  "cells": [
    {
      "cell_type": "markdown",
      "metadata": {
        "id": "view-in-github",
        "colab_type": "text"
      },
      "source": [
        "<a href=\"https://colab.research.google.com/github/andreayiuuu/CLPS950-Ai-Andrea-Final-Project/blob/main/atbash_cipher_encryption.ipynb\" target=\"_parent\"><img src=\"https://colab.research.google.com/assets/colab-badge.svg\" alt=\"Open In Colab\"/></a>"
      ]
    },
    {
      "cell_type": "code",
      "execution_count": 4,
      "metadata": {
        "colab": {
          "base_uri": "https://localhost:8080/"
        },
        "id": "uvxwXkP5Tono",
        "outputId": "462bdffc-2cdb-462e-d7e8-2f7147ab87a4"
      },
      "outputs": [
        {
          "output_type": "stream",
          "name": "stdout",
          "text": [
            "Enter the text to encrypt: AZ\n",
            "Encrypted text: ZA\n"
          ]
        }
      ],
      "source": [
        "def atbash_cipher_encryption(text):\n",
        "  encrypted_text = \"\"\n",
        "  for char in text:\n",
        "    if char.isalpha():\n",
        "      start = ord('A') if char.isupper() else ord('a')\n",
        "      encrypted_char = chr(start+(25 - (ord(char) - start)))\n",
        "      encrypted_text += encrypted_char\n",
        "    else:\n",
        "      encrypted_text += char\n",
        "  return encrypted_text\n",
        "\n",
        "text = input(\"Enter the text to encrypt: \")\n",
        "encrypted_text = atbash_cipher_encryption(text)\n",
        "print(\"Encrypted text:\", encrypted_text)\n",
        "\n"
      ]
    }
  ]
}