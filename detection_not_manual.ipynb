{
  "nbformat": 4,
  "nbformat_minor": 0,
  "metadata": {
    "colab": {
      "provenance": [],
      "authorship_tag": "ABX9TyMmDKs+YgNcdu0Wrh8Q0URo",
      "include_colab_link": true
    },
    "kernelspec": {
      "name": "python3",
      "display_name": "Python 3"
    },
    "language_info": {
      "name": "python"
    }
  },
  "cells": [
    {
      "cell_type": "markdown",
      "metadata": {
        "id": "view-in-github",
        "colab_type": "text"
      },
      "source": [
        "<a href=\"https://colab.research.google.com/github/andreayiuuu/CLPS950-Ai-Andrea-Final-Project/blob/main/detection_not_manual.ipynb\" target=\"_parent\"><img src=\"https://colab.research.google.com/assets/colab-badge.svg\" alt=\"Open In Colab\"/></a>"
      ]
    },
    {
      "cell_type": "code",
      "execution_count": 4,
      "metadata": {
        "colab": {
          "base_uri": "https://localhost:8080/"
        },
        "id": "piFJA1FpOfB5",
        "outputId": "81af2878-2dab-4a4f-aa75-daa44eb9ecc3"
      },
      "outputs": [
        {
          "output_type": "stream",
          "name": "stderr",
          "text": [
            "[nltk_data] Downloading package words to /root/nltk_data...\n",
            "[nltk_data]   Unzipping corpora/words.zip.\n"
          ]
        },
        {
          "output_type": "stream",
          "name": "stdout",
          "text": [
            "Shift 3: HELLO WORLD is valid English.\n",
            "The text is likely a Caesar cipher with a shift of 3.\n",
            "Decrypted text: HELLO WORLD\n"
          ]
        }
      ],
      "source": [
        "# detection of caesar cipher and key without manual checking\n",
        "import nltk\n",
        "nltk.download('words')\n",
        "from nltk.corpus import words\n",
        "\n",
        "def is_valid_english(text):\n",
        "  word_list = text.split()\n",
        "  english_words = set(words.words())\n",
        "  valid_word_count = sum(1 for word in word_list if word.lower() in english_words)\n",
        "  return valid_word_count/len(word_list)>0.5 if word_list else False\n",
        "\n",
        "def detect_caesar_cipher(ciphertext):\n",
        "    ciphertext = ciphertext.upper()\n",
        "    best_shift = None\n",
        "    highest_validity = 0\n",
        "\n",
        "    for shift in range (26):\n",
        "        decrypted_text = ''.join(\n",
        "            chr((ord(char) - 65 - shift)% 26 + 65) if char.isalpha() else char for char in ciphertext)\n",
        "        if is_valid_english(decrypted_text):\n",
        "          print(f\"Shift {shift}: {decrypted_text} is valid English.\")\n",
        "          best_shift = shift\n",
        "          break\n",
        "\n",
        "    if best_shift is not None:\n",
        "      print(f\"The text is likely a Caesar cipher with a shift of {best_shift}.\")\n",
        "      return best_shift\n",
        "    else:\n",
        "      print(\"The text is unlikely to be a Caesar cipher.\")\n",
        "      return None\n",
        "\n",
        "ciphertext = \"KHOOR ZRUOG\"\n",
        "key = detect_caesar_cipher(ciphertext)\n",
        "\n",
        "if key is not None:\n",
        "  decrypted_text = ''.join(chr((ord(char) - 65 - key) % 26 + 65) if char.isalpha() else char for char in ciphertext)\n",
        "  print(f\"Decrypted text: {decrypted_text}\")\n",
        "else:\n",
        "  print(\"No valid decryption found.\")\n"
      ]
    }
  ]
}