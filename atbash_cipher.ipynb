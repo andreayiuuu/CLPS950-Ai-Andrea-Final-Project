{
  "nbformat": 4,
  "nbformat_minor": 0,
  "metadata": {
    "colab": {
      "provenance": [],
      "authorship_tag": "ABX9TyMWgwbpfyTYt3xefy9fRDGD",
      "include_colab_link": true
    },
    "kernelspec": {
      "name": "python3",
      "display_name": "Python 3"
    },
    "language_info": {
      "name": "python"
    }
  },
  "cells": [
    {
      "cell_type": "markdown",
      "metadata": {
        "id": "view-in-github",
        "colab_type": "text"
      },
      "source": [
        "<a href=\"https://colab.research.google.com/github/andreayiuuu/CLPS950-Ai-Andrea-Final-Project/blob/main/atbash_cipher.ipynb\" target=\"_parent\"><img src=\"https://colab.research.google.com/assets/colab-badge.svg\" alt=\"Open In Colab\"/></a>"
      ]
    },
    {
      "cell_type": "code",
      "execution_count": null,
      "metadata": {
        "colab": {
          "base_uri": "https://localhost:8080/"
        },
        "id": "uvxwXkP5Tono",
        "outputId": "462bdffc-2cdb-462e-d7e8-2f7147ab87a4"
      },
      "outputs": [
        {
          "output_type": "stream",
          "name": "stdout",
          "text": [
            "Enter the text to encrypt: AZ\n",
            "Encrypted text: ZA\n"
          ]
        }
      ],
      "source": [
        "# atbash cipher encryption: a substitution cipher that replaces each letter with the lettter that is the\n",
        "# same distance from the opposite end of the alphabet.\n",
        "# defines atbash_cipher_encryption function that takes in argument of text to generate encrypted text.\n",
        "def atbash_cipher_encryption(text):\n",
        "  encrypted_text = \"\" # initalizes empty string for encrypted_text.\n",
        "  for char in text: # for loop iterates over every character in text\n",
        "    if char.isalpha(): # if-condition checks if current character is an alphabet letter\n",
        "      start = ord('A') if char.isupper() else ord('a')\n",
        "      encrypted_char = chr(start+(25 - (ord(char) - start)))\n",
        "      encrypted_text += encrypted_char #add the encrypted character to the string\n",
        "    else:\n",
        "      encrypted_text += char #otherwise, add the original character\n",
        "  return encrypted_text\n",
        "\n",
        "text = input(\"Enter the text to encrypt: \")\n",
        "encrypted_text = atbash_cipher_encryption(text)\n",
        "print(\"Encrypted text:\", encrypted_text)\n",
        "\n"
      ]
    },
    {
      "cell_type": "code",
      "source": [
        "# atbash cipher decipher\n",
        "def atbash_cipher_decryption(text):\n",
        "  decrypted_text = \"\" #initializes decryptedtext as an empty string\n",
        "  for char in text: #iterates through each character in input text\n",
        "    if char.isalpha():\n",
        "      start = ord('A') if char.isupper() else ord('a') # defines start as the ascii value of A or a\n",
        "      decrypted_char = chr(start+(25 - (ord(char) - start))) # uses askii value to to get the final askii value of the encrypted character, and turns it back to character\n",
        "      decrypted_text += decrypted_char # decrypted character is added to decrypted text.\n",
        "    else:\n",
        "      decrypted_text += char # if character is not an alphabet letter, added to decrypted text as is.\n",
        "  return decrypted_text\n",
        "\n",
        "# receives user input for the text to be decrypted and the shift value to decrypt by.\n",
        "text = input(\"Enter the text to decrypt: \")\n",
        "#calls atbash_cipher_decryption function to generate decrypted text\n",
        "decrypted_text = atbash_cipher_decryption(text)\n",
        "print(\"Decrypted text:\", decrypted_text)\n"
      ],
      "metadata": {
        "colab": {
          "base_uri": "https://localhost:8080/"
        },
        "id": "o2gI6soxVFHV",
        "outputId": "f10182c5-a1cd-4025-bfc1-4267e5b1b701"
      },
      "execution_count": null,
      "outputs": [
        {
          "output_type": "stream",
          "name": "stdout",
          "text": [
            "Enter the text to decrypt: ZA\n",
            "Decrypted text: AZ\n"
          ]
        }
      ]
    }
  ]
}