{
  "nbformat": 4,
  "nbformat_minor": 0,
  "metadata": {
    "colab": {
      "provenance": [],
      "authorship_tag": "ABX9TyMXLrIxNU16rccaiIoJFtWa",
      "include_colab_link": true
    },
    "kernelspec": {
      "name": "python3",
      "display_name": "Python 3"
    },
    "language_info": {
      "name": "python"
    }
  },
  "cells": [
    {
      "cell_type": "markdown",
      "metadata": {
        "id": "view-in-github",
        "colab_type": "text"
      },
      "source": [
        "<a href=\"https://colab.research.google.com/github/andreayiuuu/CLPS950-Ai-Andrea-Final-Project/blob/main/caesar_encryption.ipynb\" target=\"_parent\"><img src=\"https://colab.research.google.com/assets/colab-badge.svg\" alt=\"Open In Colab\"/></a>"
      ]
    },
    {
      "cell_type": "code",
      "execution_count": 4,
      "metadata": {
        "colab": {
          "base_uri": "https://localhost:8080/"
        },
        "id": "6kcLoLAtI4pU",
        "outputId": "87506008-be7c-425a-e178-529724155d8b"
      },
      "outputs": [
        {
          "output_type": "stream",
          "name": "stdout",
          "text": [
            "Enter the text to be encrypted: HELLO\n",
            "Enter the shift value: 3\n",
            "Encrypted Text: KHOOR\n"
          ]
        }
      ],
      "source": [
        "def caesar_cipher(text, shift):\n",
        "    encrypted_text = \"\"\n",
        "    for char in text:\n",
        "        if char.isalpha():\n",
        "          start = ord('A') if char.isupper() else ord('a')\n",
        "          encrypted_char = chr((ord(char) - start + shift) % 26 + start)\n",
        "          encrypted_text += encrypted_char\n",
        "        else:\n",
        "          encrypted_text += char\n",
        "    return encrypted_text\n",
        "text = input(\"Enter the text to be encrypted: \")\n",
        "shift = int(input(\"Enter the shift value: \"))\n",
        "encrypted_text = caesar_cipher(text, shift)\n",
        "print(f\"Encrypted Text: {encrypted_text}\")\n"
      ]
    }
  ]
}