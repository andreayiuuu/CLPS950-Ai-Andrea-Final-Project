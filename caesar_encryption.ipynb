{
  "nbformat": 4,
  "nbformat_minor": 0,
  "metadata": {
    "colab": {
      "provenance": [],
      "authorship_tag": "ABX9TyNZyW6pYZhKlhaz2TeuM4kG",
      "include_colab_link": true
    },
    "kernelspec": {
      "name": "python3",
      "display_name": "Python 3"
    },
    "language_info": {
      "name": "python"
    }
  },
  "cells": [
    {
      "cell_type": "markdown",
      "metadata": {
        "id": "view-in-github",
        "colab_type": "text"
      },
      "source": [
        "<a href=\"https://colab.research.google.com/github/andreayiuuu/CLPS950-Ai-Andrea-Final-Project/blob/main/caesar_encryption.ipynb\" target=\"_parent\"><img src=\"https://colab.research.google.com/assets/colab-badge.svg\" alt=\"Open In Colab\"/></a>"
      ]
    },
    {
      "cell_type": "code",
      "execution_count": null,
      "metadata": {
        "colab": {
          "base_uri": "https://localhost:8080/"
        },
        "id": "6kcLoLAtI4pU",
        "outputId": "87506008-be7c-425a-e178-529724155d8b"
      },
      "outputs": [
        {
          "output_type": "stream",
          "name": "stdout",
          "text": [
            "Enter the text to be encrypted: HELLO\n",
            "Enter the shift value: 3\n",
            "Encrypted Text: KHOOR\n"
          ]
        }
      ],
      "source": [
        "# This program encrypts text according to the Caesar cipher.\n",
        "# defines caesar_cipher function that takes in text and shift as arguments to generate encrypted text.\n",
        "def caesar_cipher(text, shift):\n",
        "    encrypted_text = \"\" # initializes empty string called encrypted_text.\n",
        "    for char in text: # for lopps iterates through each character in text.\n",
        "        if char.isalpha(): # if-condition checks if current character is an alphabet letter\n",
        "          start = ord('A') if char.isupper() else ord('a') # if character is uppercase, start is set to ASCII value of 'A', otherwise 'a'.\n",
        "          # converts character to its ASCII value, shifts it by shift value, then converts it back to a character.\n",
        "          encrypted_char = chr((ord(char) - start + shift) % 26 + start)\n",
        "          encrypted_text += encrypted_char # encrypted character is added to encrypted_text\n",
        "        else:\n",
        "          encrypted_text += char # if character is not an alphabet letter, added to encrypted_text as is.\n",
        "    return encrypted_text\n",
        "\n",
        "# receives user input for the text to be encrypted and shift value to encrypt by.\n",
        "text = input(\"Enter the text to be encrypted: \")\n",
        "shift = int(input(\"Enter the shift value: \"))\n",
        "# calls the caesar_cipher function to generate encrypted text.\n",
        "encrypted_text = caesar_cipher(text, shift)\n",
        "print(f\"Encrypted Text: {encrypted_text}\")\n"
      ]
    }
  ]
}